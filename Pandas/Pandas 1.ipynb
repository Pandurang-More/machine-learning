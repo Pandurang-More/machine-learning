{
 "cells": [
  {
   "cell_type": "markdown",
   "id": "d3c69101-3714-4dff-a3d6-97cbbe481157",
   "metadata": {},
   "source": [
    "\r\n",
    "\r\n",
    "#  ✅ What is Pandas?\r\n",
    "- **Pandas** is a powerful and popular Python library designed for **data manipulation** (cleaning, transforming, and structuring data) and **data analysis** (finding patterns, trends, and insights).  \r\n",
    "- It simplifies working with structured datasets like tables, spreadsheets, or time-series data.  \r\n",
    "\r\n",
    "--\n",
    "\r\n",
    "## ✅ What Makes Pandas Unique?\r\n",
    "\r\n",
    "**Key Features**  \r\n",
    "- Works seamlessly with structured data formats like CSV and Excel  \r\n",
    "- Handles missing values easily  \r\n",
    "- Built on NumPy for fast computations  \r\n",
    "\r\n",
    "**Why Use Pandas?**  \r\n",
    "- **Performance:** Handles millions of rows efficiently  \r\n",
    "- **Ease of Use:** Beginner-friendly syntax for cleaning and transforming data  \r\n",
    "- **Integration:** Works with libraries like Matplotlib (visualizations) and Scikit-lear(ML)  \r\n",
    "\r\n",
    "---\r\n",
    "\r\n",
    "## ✅ Real-Life Examples of Pandas in Action\r\n",
    "- **Finance:** Analyzing time-series data like stock prices to identify market trends  \r\n",
    "- **Retail:** Tracking inventory and finding the most sold products in a store  \r\n",
    "- **Healthcare:** Analyzing patient records and outc\n",
    "\n",
    "## Key Pandas Concepts  \r\n",
    "\r\n",
    "### Series  \r\n",
    "- A **Series** is a one-dimensional labeled array that can hold any data type: integers, floats, strings, or even Python objects.  \r\n",
    "- Each element in the Series has a unique label called an **index**.  \r\n",
    "- It is often used to track changes or patterns over time, such as daily temperatures, stock prices, or sales revenue.  \r\n",
    "\r\n",
    "### DataFrame  \r\n",
    "- A **DataFrame** is a two-dimensional labeled data structure with rows and columns, similar to a table or spreadsheet.  \r\n",
    "- Each column in a DataFrame can be a different data type (integer, string, float, etc.).  \r\n",
    "- DataFrames are widely used for handling and analyzing datasets in tabular form.  \r\n",
    "- They make it easy to filter rows, select columns, handle missing values, and perform agegations.  \r\n",
    "e.  \r\n",
    "es from clinical trials  \r\n",
    "s from clinical trials  \r\n"
   ]
  },
  {
   "cell_type": "code",
   "execution_count": 1,
   "id": "5dda56dc-2902-4abd-8e06-30190ec46ba0",
   "metadata": {},
   "outputs": [],
   "source": [
    "\n",
    "import pandas as pd"
   ]
  },
  {
   "cell_type": "code",
   "execution_count": 4,
   "id": "8fd1bb0c-29c2-4482-9b2e-f99ea6088f50",
   "metadata": {},
   "outputs": [
    {
     "name": "stdout",
     "output_type": "stream",
     "text": [
      "      ORDERNUMBER  QUANTITYORDERED  PRICEEACH  ORDERLINENUMBER    SALES  \\\n",
      "0           10107               30      95.70                2  2871.00   \n",
      "1           10121               34      81.35                5  2765.90   \n",
      "2           10134               41      94.74                2  3884.34   \n",
      "3           10145               45      83.26                6  3746.70   \n",
      "4           10159               49     100.00               14  5205.27   \n",
      "...           ...              ...        ...              ...      ...   \n",
      "2818        10350               20     100.00               15  2244.40   \n",
      "2819        10373               29     100.00                1  3978.51   \n",
      "2820        10386               43     100.00                4  5417.57   \n",
      "2821        10397               34      62.24                1  2116.16   \n",
      "2822        10414               47      65.52                9  3079.44   \n",
      "\n",
      "            ORDERDATE    STATUS  QTR_ID  MONTH_ID  YEAR_ID  ...  \\\n",
      "0      2/24/2003 0:00   Shipped       1         2     2003  ...   \n",
      "1       5/7/2003 0:00   Shipped       2         5     2003  ...   \n",
      "2       7/1/2003 0:00   Shipped       3         7     2003  ...   \n",
      "3      8/25/2003 0:00   Shipped       3         8     2003  ...   \n",
      "4     10/10/2003 0:00   Shipped       4        10     2003  ...   \n",
      "...               ...       ...     ...       ...      ...  ...   \n",
      "2818   12/2/2004 0:00   Shipped       4        12     2004  ...   \n",
      "2819   1/31/2005 0:00   Shipped       1         1     2005  ...   \n",
      "2820    3/1/2005 0:00  Resolved       1         3     2005  ...   \n",
      "2821   3/28/2005 0:00   Shipped       1         3     2005  ...   \n",
      "2822    5/6/2005 0:00   On Hold       2         5     2005  ...   \n",
      "\n",
      "                       ADDRESSLINE1  ADDRESSLINE2           CITY STATE  \\\n",
      "0           897 Long Airport Avenue           NaN            NYC    NY   \n",
      "1                59 rue de l'Abbaye           NaN          Reims   NaN   \n",
      "2     27 rue du Colonel Pierre Avia           NaN          Paris   NaN   \n",
      "3                78934 Hillside Dr.           NaN       Pasadena    CA   \n",
      "4                   7734 Strong St.           NaN  San Francisco    CA   \n",
      "...                             ...           ...            ...   ...   \n",
      "2818             C/ Moralzarzal, 86           NaN         Madrid   NaN   \n",
      "2819                    Torikatu 38           NaN           Oulu   NaN   \n",
      "2820             C/ Moralzarzal, 86           NaN         Madrid   NaN   \n",
      "2821          1 rue Alsace-Lorraine           NaN       Toulouse   NaN   \n",
      "2822             8616 Spinnaker Dr.           NaN         Boston    MA   \n",
      "\n",
      "     POSTALCODE  COUNTRY TERRITORY CONTACTLASTNAME CONTACTFIRSTNAME DEALSIZE  \n",
      "0         10022      USA       NaN              Yu             Kwai    Small  \n",
      "1         51100   France      EMEA         Henriot             Paul    Small  \n",
      "2         75508   France      EMEA        Da Cunha           Daniel   Medium  \n",
      "3         90003      USA       NaN           Young            Julie   Medium  \n",
      "4           NaN      USA       NaN           Brown            Julie   Medium  \n",
      "...         ...      ...       ...             ...              ...      ...  \n",
      "2818      28034    Spain      EMEA          Freyre            Diego    Small  \n",
      "2819      90110  Finland      EMEA       Koskitalo           Pirkko   Medium  \n",
      "2820      28034    Spain      EMEA          Freyre            Diego   Medium  \n",
      "2821      31000   France      EMEA          Roulet          Annette    Small  \n",
      "2822      51003      USA       NaN         Yoshido             Juri   Medium  \n",
      "\n",
      "[2823 rows x 25 columns]\n"
     ]
    }
   ],
   "source": [
    "df=pd.read_csv(\"sales_data_sample.csv\", encoding=\"latin1\")\n",
    "print(df)"
   ]
  },
  {
   "cell_type": "code",
   "execution_count": 16,
   "id": "ebf2470a-4fca-4c33-89fc-f0272673dc20",
   "metadata": {},
   "outputs": [
    {
     "name": "stdout",
     "output_type": "stream",
     "text": [
      "      Row ID        Order ID Order Date  Ship Date       Ship Mode  \\\n",
      "0          1  CA-2016-152156 2016-11-08 2016-11-11    Second Class   \n",
      "1          2  CA-2016-152156 2016-11-08 2016-11-11    Second Class   \n",
      "2          3  CA-2016-138688 2016-06-12 2016-06-16    Second Class   \n",
      "3          4  US-2015-108966 2015-10-11 2015-10-18  Standard Class   \n",
      "4          5  US-2015-108966 2015-10-11 2015-10-18  Standard Class   \n",
      "...      ...             ...        ...        ...             ...   \n",
      "9989    9990  CA-2014-110422 2014-01-21 2014-01-23    Second Class   \n",
      "9990    9991  CA-2017-121258 2017-02-26 2017-03-03  Standard Class   \n",
      "9991    9992  CA-2017-121258 2017-02-26 2017-03-03  Standard Class   \n",
      "9992    9993  CA-2017-121258 2017-02-26 2017-03-03  Standard Class   \n",
      "9993    9994  CA-2017-119914 2017-05-04 2017-05-09    Second Class   \n",
      "\n",
      "     Customer ID     Customer Name    Segment        Country             City  \\\n",
      "0       CG-12520       Claire Gute   Consumer  United States        Henderson   \n",
      "1       CG-12520       Claire Gute   Consumer  United States        Henderson   \n",
      "2       DV-13045   Darrin Van Huff  Corporate  United States      Los Angeles   \n",
      "3       SO-20335    Sean O'Donnell   Consumer  United States  Fort Lauderdale   \n",
      "4       SO-20335    Sean O'Donnell   Consumer  United States  Fort Lauderdale   \n",
      "...          ...               ...        ...            ...              ...   \n",
      "9989    TB-21400  Tom Boeckenhauer   Consumer  United States            Miami   \n",
      "9990    DB-13060       Dave Brooks   Consumer  United States       Costa Mesa   \n",
      "9991    DB-13060       Dave Brooks   Consumer  United States       Costa Mesa   \n",
      "9992    DB-13060       Dave Brooks   Consumer  United States       Costa Mesa   \n",
      "9993    CC-12220      Chris Cortes   Consumer  United States      Westminster   \n",
      "\n",
      "      ... Postal Code  Region       Product ID         Category Sub-Category  \\\n",
      "0     ...       42420   South  FUR-BO-10001798        Furniture    Bookcases   \n",
      "1     ...       42420   South  FUR-CH-10000454        Furniture       Chairs   \n",
      "2     ...       90036    West  OFF-LA-10000240  Office Supplies       Labels   \n",
      "3     ...       33311   South  FUR-TA-10000577        Furniture       Tables   \n",
      "4     ...       33311   South  OFF-ST-10000760  Office Supplies      Storage   \n",
      "...   ...         ...     ...              ...              ...          ...   \n",
      "9989  ...       33180   South  FUR-FU-10001889        Furniture  Furnishings   \n",
      "9990  ...       92627    West  FUR-FU-10000747        Furniture  Furnishings   \n",
      "9991  ...       92627    West  TEC-PH-10003645       Technology       Phones   \n",
      "9992  ...       92627    West  OFF-PA-10004041  Office Supplies        Paper   \n",
      "9993  ...       92683    West  OFF-AP-10002684  Office Supplies   Appliances   \n",
      "\n",
      "                                           Product Name     Sales  Quantity  \\\n",
      "0                     Bush Somerset Collection Bookcase  261.9600         2   \n",
      "1     Hon Deluxe Fabric Upholstered Stacking Chairs,...  731.9400         3   \n",
      "2     Self-Adhesive Address Labels for Typewriters b...   14.6200         2   \n",
      "3         Bretford CR4500 Series Slim Rectangular Table  957.5775         5   \n",
      "4                        Eldon Fold 'N Roll Cart System   22.3680         2   \n",
      "...                                                 ...       ...       ...   \n",
      "9989                             Ultra Door Pull Handle   25.2480         3   \n",
      "9990  Tenex B1-RE Series Chair Mats for Low Pile Car...   91.9600         2   \n",
      "9991                              Aastra 57i VoIP phone  258.5760         2   \n",
      "9992  It's Hot Message Books with Stickers, 2 3/4\" x 5\"   29.6000         4   \n",
      "9993  Acco 7-Outlet Masterpiece Power Center, Wihtou...  243.1600         2   \n",
      "\n",
      "      Discount    Profit  \n",
      "0         0.00   41.9136  \n",
      "1         0.00  219.5820  \n",
      "2         0.00    6.8714  \n",
      "3         0.45 -383.0310  \n",
      "4         0.20    2.5164  \n",
      "...        ...       ...  \n",
      "9989      0.20    4.1028  \n",
      "9990      0.00   15.6332  \n",
      "9991      0.20   19.3932  \n",
      "9992      0.00   13.3200  \n",
      "9993      0.00   72.9480  \n",
      "\n",
      "[9994 rows x 21 columns]\n"
     ]
    }
   ],
   "source": [
    "df=pd.read_excel(\"SampleSuperstore.xlsx\")\n",
    "print(df )"
   ]
  },
  {
   "cell_type": "code",
   "execution_count": 17,
   "id": "9a52505e-b51b-4121-8604-3f23bc5505c2",
   "metadata": {},
   "outputs": [
    {
     "name": "stdout",
     "output_type": "stream",
     "text": [
      "    id                                               name  \\\n",
      "0    1                                    Apple iPhone 12   \n",
      "1    2                                 Samsung Galaxy S21   \n",
      "2    3                                 Sony PlayStation 5   \n",
      "3    4                  LG OLED55CXPUA 55-inch 4K OLED TV   \n",
      "4    5        Bose QuietComfort 35 II Wireless Headphones   \n",
      "5    6                          Fitbit Versa 3 Smartwatch   \n",
      "6    7                             KitchenAid Stand Mixer   \n",
      "7    8                 Dyson V11 Absolute Cordless Vacuum   \n",
      "8    9                         Ninja Foodi Smart XL Grill   \n",
      "9   10                    Canon EOS Rebel T8i DSLR Camera   \n",
      "10  11                                  Apple AirPods Pro   \n",
      "11  12        Bose QuietComfort 35 II Wireless Headphones   \n",
      "12  13                    Fitbit Charge 4 Fitness Tracker   \n",
      "13  14                              Samsung Galaxy Watch3   \n",
      "14  15  Sony WH-1000XM4 Wireless Noise-Cancelling Head...   \n",
      "15  16          Breville Barista Express Espresso Machine   \n",
      "16  17                        Keurig K-Elite Coffee Maker   \n",
      "17  18                     iRobot Roomba i7+ Robot Vacuum   \n",
      "18  19                   Ninja Foodi Digital Air Fry Oven   \n",
      "19  20                   Cuisinart ICE-70 Ice Cream Maker   \n",
      "\n",
      "                                          description    price  \\\n",
      "0   The Apple iPhone 12 features a 6.1-inch Super ...   999.00   \n",
      "1   The Samsung Galaxy S21 features a 6.2-inch Dyn...   799.00   \n",
      "2   The Sony PlayStation 5 features an AMD Zen 2-b...   499.99   \n",
      "3   The LG OLED55CXPUA 55-inch 4K OLED TV features...  1599.99   \n",
      "4   The Bose QuietComfort 35 II Wireless Headphone...   299.00   \n",
      "5   The Fitbit Versa 3 Smartwatch features a built...   229.95   \n",
      "6   The KitchenAid Stand Mixer features a 5-quart ...   399.99   \n",
      "7   The Dyson V11 Absolute Cordless Vacuum feature...   699.99   \n",
      "8   The Ninja Foodi Smart XL Grill features 6-in-1...   279.99   \n",
      "9   The Canon EOS Rebel T8i DSLR Camera features a...   899.00   \n",
      "10  The Apple AirPods Pro feature active noise can...   249.00   \n",
      "11  The Bose QuietComfort 35 II Wireless Headphone...   299.00   \n",
      "12  The Fitbit Charge 4 Fitness Tracker features G...   129.95   \n",
      "13  The Samsung Galaxy Watch3 features a rotating ...   399.99   \n",
      "14  The Sony WH-1000XM4 Wireless Noise-Cancelling ...   349.99   \n",
      "15  The Breville Barista Express Espresso Machine ...   699.95   \n",
      "16  The Keurig K-Elite Coffee Maker features a str...   169.99   \n",
      "17  The iRobot Roomba i7+ Robot Vacuum features au...   799.99   \n",
      "18  The Ninja Foodi Digital Air Fry Oven features ...   209.99   \n",
      "19  The Cuisinart ICE-70 Ice Cream Maker features ...   139.99   \n",
      "\n",
      "           category                                              image  \n",
      "0       Electronics  https://www.apple.com/newsroom/images/product/...  \n",
      "1       Electronics  https://images.samsung.com/is/image/samsung/p6...  \n",
      "2       Electronics  https://www.sony.com/image/44baa604124b770c824...  \n",
      "3       Electronics  https://www.lg.com/us/images/tvs/md07501804/ga...  \n",
      "4       Electronics  https://assets.bose.com/content/dam/Bose_DAM/W...  \n",
      "5       Electronics  https://www.fitbit.com/global/content/dam/fitb...  \n",
      "6    Home & Kitchen  https://www.kitchenaid.com/content/dam/global/...  \n",
      "7   Home Appliances  https://www.dysoncanada.ca/dam/dyson/images/pr...  \n",
      "8    Home & Kitchen  https://www.ninjakitchen.com/medias/Ninja-OP50...  \n",
      "9       Electronics  https://www.canon.com.au/-/media/images/produc...  \n",
      "10      Electronics  https://www.apple.com/v/airpods-pro/b/images/m...  \n",
      "11      Electronics  https://assets.bose.com/content/dam/Bose_DAM/W...  \n",
      "12      Electronics  https://www.fitbit.com/global/content/dam/fitb...  \n",
      "13      Electronics  https://images.samsung.com/is/image/samsung/as...  \n",
      "14      Electronics  https://www.sony.com/image/1cdd6354c4cd21cc4f7...  \n",
      "15   Home & Kitchen  https://www.breville.com/content/dam/breville/...  \n",
      "16   Home & Kitchen  https://www.keurig.com/content/dam/global-ecom...  \n",
      "17   Home & Kitchen  https://store.irobot.com/default/i7-vacuuming-...  \n",
      "18   Home & Kitchen  https://www.ninjakitchen.com/static/img/produc...  \n",
      "19   Home & Kitchen  https://www.cuisinart.com/share/images/product...  \n"
     ]
    }
   ],
   "source": [
    "df=pd.read_json(\"sample_Data.json\")\n",
    "print(df)"
   ]
  },
  {
   "cell_type": "code",
   "execution_count": 21,
   "id": "e6054ddf-1101-420a-8d98-17ee86e85c1c",
   "metadata": {},
   "outputs": [],
   "source": [
    "import pandas as pd\n",
    "\n",
    "df = pd.DataFrame({\n",
    "    \"ID\": [1, 2, 3, 4, 5],\n",
    "    \"Name\": [\"Alice\", \"Bob\", \"Charlie\", \"David\", \"Eva\"],\n",
    "    \"Score\": [85, 90, 95, 88, 92]\n",
    "})\n",
    "df.to_csv(\"output.csv\",index=False)\n"
   ]
  },
  {
   "cell_type": "code",
   "execution_count": 22,
   "id": "562f65ce-8ea6-43a0-889b-e539b046dc89",
   "metadata": {},
   "outputs": [],
   "source": [
    "\n",
    "df = pd.DataFrame({\n",
    "    \"ID\": [1, 2, 3, 4, 5],\n",
    "    \"Name\": [\"Alice\", \"Bob\", \"Charlie\", \"David\", \"Eva\"],\n",
    "    \"Score\": [85, 90, 95, 88, 92]\n",
    "})\n",
    "df.to_excel(\"output.xlsx\",index=False)\n"
   ]
  },
  {
   "cell_type": "code",
   "execution_count": 23,
   "id": "5cb5f665-38f5-4ec7-b638-0b46467c21bb",
   "metadata": {},
   "outputs": [],
   "source": [
    "\n",
    "df = pd.DataFrame({\n",
    "    \"ID\": [1, 2, 3, 4, 5],\n",
    "    \"Name\": [\"Alice\", \"Bob\", \"Charlie\", \"David\", \"Eva\"],\n",
    "    \"Score\": [85, 90, 95, 88, 92]\n",
    "})\n",
    "df.to_json(\"output.json\",index=False)\n"
   ]
  },
  {
   "cell_type": "code",
   "execution_count": 24,
   "id": "b39cad46-1c87-46dc-ae4f-6cce7b024971",
   "metadata": {},
   "outputs": [
    {
     "data": {
      "text/html": [
       "<div>\n",
       "<style scoped>\n",
       "    .dataframe tbody tr th:only-of-type {\n",
       "        vertical-align: middle;\n",
       "    }\n",
       "\n",
       "    .dataframe tbody tr th {\n",
       "        vertical-align: top;\n",
       "    }\n",
       "\n",
       "    .dataframe thead th {\n",
       "        text-align: right;\n",
       "    }\n",
       "</style>\n",
       "<table border=\"1\" class=\"dataframe\">\n",
       "  <thead>\n",
       "    <tr style=\"text-align: right;\">\n",
       "      <th></th>\n",
       "      <th>ID</th>\n",
       "      <th>Name</th>\n",
       "      <th>Score</th>\n",
       "    </tr>\n",
       "  </thead>\n",
       "  <tbody>\n",
       "    <tr>\n",
       "      <th>0</th>\n",
       "      <td>1</td>\n",
       "      <td>Alice</td>\n",
       "      <td>85</td>\n",
       "    </tr>\n",
       "    <tr>\n",
       "      <th>1</th>\n",
       "      <td>2</td>\n",
       "      <td>Bob</td>\n",
       "      <td>90</td>\n",
       "    </tr>\n",
       "    <tr>\n",
       "      <th>2</th>\n",
       "      <td>3</td>\n",
       "      <td>Charlie</td>\n",
       "      <td>95</td>\n",
       "    </tr>\n",
       "    <tr>\n",
       "      <th>3</th>\n",
       "      <td>4</td>\n",
       "      <td>David</td>\n",
       "      <td>88</td>\n",
       "    </tr>\n",
       "    <tr>\n",
       "      <th>4</th>\n",
       "      <td>5</td>\n",
       "      <td>Eva</td>\n",
       "      <td>92</td>\n",
       "    </tr>\n",
       "  </tbody>\n",
       "</table>\n",
       "</div>"
      ],
      "text/plain": [
       "   ID     Name  Score\n",
       "0   1    Alice     85\n",
       "1   2      Bob     90\n",
       "2   3  Charlie     95\n",
       "3   4    David     88\n",
       "4   5      Eva     92"
      ]
     },
     "execution_count": 24,
     "metadata": {},
     "output_type": "execute_result"
    }
   ],
   "source": [
    "df.head()"
   ]
  },
  {
   "cell_type": "code",
   "execution_count": 25,
   "id": "89c202b3-886f-4842-a82d-13e5e8f03d8b",
   "metadata": {},
   "outputs": [
    {
     "data": {
      "text/html": [
       "<div>\n",
       "<style scoped>\n",
       "    .dataframe tbody tr th:only-of-type {\n",
       "        vertical-align: middle;\n",
       "    }\n",
       "\n",
       "    .dataframe tbody tr th {\n",
       "        vertical-align: top;\n",
       "    }\n",
       "\n",
       "    .dataframe thead th {\n",
       "        text-align: right;\n",
       "    }\n",
       "</style>\n",
       "<table border=\"1\" class=\"dataframe\">\n",
       "  <thead>\n",
       "    <tr style=\"text-align: right;\">\n",
       "      <th></th>\n",
       "      <th>ID</th>\n",
       "      <th>Name</th>\n",
       "      <th>Score</th>\n",
       "    </tr>\n",
       "  </thead>\n",
       "  <tbody>\n",
       "    <tr>\n",
       "      <th>3</th>\n",
       "      <td>4</td>\n",
       "      <td>David</td>\n",
       "      <td>88</td>\n",
       "    </tr>\n",
       "    <tr>\n",
       "      <th>4</th>\n",
       "      <td>5</td>\n",
       "      <td>Eva</td>\n",
       "      <td>92</td>\n",
       "    </tr>\n",
       "  </tbody>\n",
       "</table>\n",
       "</div>"
      ],
      "text/plain": [
       "   ID   Name  Score\n",
       "3   4  David     88\n",
       "4   5    Eva     92"
      ]
     },
     "execution_count": 25,
     "metadata": {},
     "output_type": "execute_result"
    }
   ],
   "source": [
    "df.tail(2)"
   ]
  },
  {
   "cell_type": "code",
   "execution_count": 26,
   "id": "f775f1f1-c6ff-4842-a5c7-e083deb06da9",
   "metadata": {},
   "outputs": [
    {
     "name": "stdout",
     "output_type": "stream",
     "text": [
      "<class 'pandas.core.frame.DataFrame'>\n",
      "RangeIndex: 5 entries, 0 to 4\n",
      "Data columns (total 3 columns):\n",
      " #   Column  Non-Null Count  Dtype \n",
      "---  ------  --------------  ----- \n",
      " 0   ID      5 non-null      int64 \n",
      " 1   Name    5 non-null      object\n",
      " 2   Score   5 non-null      int64 \n",
      "dtypes: int64(2), object(1)\n",
      "memory usage: 252.0+ bytes\n"
     ]
    }
   ],
   "source": [
    "df.info()"
   ]
  },
  {
   "cell_type": "code",
   "execution_count": 29,
   "id": "b8785fc0-50b2-444a-a8be-bfe365ccd56d",
   "metadata": {},
   "outputs": [
    {
     "data": {
      "text/html": [
       "<div>\n",
       "<style scoped>\n",
       "    .dataframe tbody tr th:only-of-type {\n",
       "        vertical-align: middle;\n",
       "    }\n",
       "\n",
       "    .dataframe tbody tr th {\n",
       "        vertical-align: top;\n",
       "    }\n",
       "\n",
       "    .dataframe thead th {\n",
       "        text-align: right;\n",
       "    }\n",
       "</style>\n",
       "<table border=\"1\" class=\"dataframe\">\n",
       "  <thead>\n",
       "    <tr style=\"text-align: right;\">\n",
       "      <th></th>\n",
       "      <th>ID</th>\n",
       "      <th>Score</th>\n",
       "    </tr>\n",
       "  </thead>\n",
       "  <tbody>\n",
       "    <tr>\n",
       "      <th>count</th>\n",
       "      <td>5.000000</td>\n",
       "      <td>5.000000</td>\n",
       "    </tr>\n",
       "    <tr>\n",
       "      <th>mean</th>\n",
       "      <td>3.000000</td>\n",
       "      <td>90.000000</td>\n",
       "    </tr>\n",
       "    <tr>\n",
       "      <th>std</th>\n",
       "      <td>1.581139</td>\n",
       "      <td>3.807887</td>\n",
       "    </tr>\n",
       "    <tr>\n",
       "      <th>min</th>\n",
       "      <td>1.000000</td>\n",
       "      <td>85.000000</td>\n",
       "    </tr>\n",
       "    <tr>\n",
       "      <th>25%</th>\n",
       "      <td>2.000000</td>\n",
       "      <td>88.000000</td>\n",
       "    </tr>\n",
       "    <tr>\n",
       "      <th>50%</th>\n",
       "      <td>3.000000</td>\n",
       "      <td>90.000000</td>\n",
       "    </tr>\n",
       "    <tr>\n",
       "      <th>75%</th>\n",
       "      <td>4.000000</td>\n",
       "      <td>92.000000</td>\n",
       "    </tr>\n",
       "    <tr>\n",
       "      <th>max</th>\n",
       "      <td>5.000000</td>\n",
       "      <td>95.000000</td>\n",
       "    </tr>\n",
       "  </tbody>\n",
       "</table>\n",
       "</div>"
      ],
      "text/plain": [
       "             ID      Score\n",
       "count  5.000000   5.000000\n",
       "mean   3.000000  90.000000\n",
       "std    1.581139   3.807887\n",
       "min    1.000000  85.000000\n",
       "25%    2.000000  88.000000\n",
       "50%    3.000000  90.000000\n",
       "75%    4.000000  92.000000\n",
       "max    5.000000  95.000000"
      ]
     },
     "execution_count": 29,
     "metadata": {},
     "output_type": "execute_result"
    }
   ],
   "source": [
    "df.describe()"
   ]
  },
  {
   "cell_type": "code",
   "execution_count": 30,
   "id": "f9ca5c36-cb32-4124-bca5-ecd76aad64e4",
   "metadata": {},
   "outputs": [
    {
     "data": {
      "text/plain": [
       "(5, 3)"
      ]
     },
     "execution_count": 30,
     "metadata": {},
     "output_type": "execute_result"
    }
   ],
   "source": [
    "df.shape"
   ]
  },
  {
   "cell_type": "code",
   "execution_count": 31,
   "id": "5a1b7d71-2c9c-48d9-a453-407ba88415c1",
   "metadata": {},
   "outputs": [
    {
     "data": {
      "text/plain": [
       "Index(['ID', 'Name', 'Score'], dtype='object')"
      ]
     },
     "execution_count": 31,
     "metadata": {},
     "output_type": "execute_result"
    }
   ],
   "source": [
    "df.columns"
   ]
  },
  {
   "cell_type": "code",
   "execution_count": 39,
   "id": "a8771547-7515-4f69-8a97-a123927782a8",
   "metadata": {},
   "outputs": [
    {
     "data": {
      "text/plain": [
       "0      Alice\n",
       "1        Bob\n",
       "2    Charlie\n",
       "3      David\n",
       "4        Eva\n",
       "Name: Name, dtype: object"
      ]
     },
     "execution_count": 39,
     "metadata": {},
     "output_type": "execute_result"
    }
   ],
   "source": [
    "df = pd.DataFrame({\n",
    "    \"ID\": [1, 2, 3, 4, 5],\n",
    "    \"Name\": [\"Alice\", \"Bob\", \"Charlie\", \"David\", \"Eva\"],\n",
    "    \"Score\": [85, 90, 95, 88, 92]\n",
    "})\n",
    "df['Name']"
   ]
  },
  {
   "cell_type": "code",
   "execution_count": 44,
   "id": "2164cbb7-19cf-479f-8915-42260961ab55",
   "metadata": {},
   "outputs": [
    {
     "data": {
      "text/html": [
       "<div>\n",
       "<style scoped>\n",
       "    .dataframe tbody tr th:only-of-type {\n",
       "        vertical-align: middle;\n",
       "    }\n",
       "\n",
       "    .dataframe tbody tr th {\n",
       "        vertical-align: top;\n",
       "    }\n",
       "\n",
       "    .dataframe thead th {\n",
       "        text-align: right;\n",
       "    }\n",
       "</style>\n",
       "<table border=\"1\" class=\"dataframe\">\n",
       "  <thead>\n",
       "    <tr style=\"text-align: right;\">\n",
       "      <th></th>\n",
       "      <th>ID</th>\n",
       "      <th>Name</th>\n",
       "      <th>Score</th>\n",
       "    </tr>\n",
       "  </thead>\n",
       "  <tbody>\n",
       "    <tr>\n",
       "      <th>1</th>\n",
       "      <td>2</td>\n",
       "      <td>Bob</td>\n",
       "      <td>90</td>\n",
       "    </tr>\n",
       "    <tr>\n",
       "      <th>2</th>\n",
       "      <td>3</td>\n",
       "      <td>Charlie</td>\n",
       "      <td>95</td>\n",
       "    </tr>\n",
       "    <tr>\n",
       "      <th>4</th>\n",
       "      <td>5</td>\n",
       "      <td>Eva</td>\n",
       "      <td>92</td>\n",
       "    </tr>\n",
       "  </tbody>\n",
       "</table>\n",
       "</div>"
      ],
      "text/plain": [
       "   ID     Name  Score\n",
       "1   2      Bob     90\n",
       "2   3  Charlie     95\n",
       "4   5      Eva     92"
      ]
     },
     "execution_count": 44,
     "metadata": {},
     "output_type": "execute_result"
    }
   ],
   "source": [
    "df[df[\"Score\"]>89]"
   ]
  },
  {
   "cell_type": "code",
   "execution_count": null,
   "id": "8e8f27a9-13fd-40e6-b79a-152b71d758d0",
   "metadata": {},
   "outputs": [],
   "source": []
  }
 ],
 "metadata": {
  "kernelspec": {
   "display_name": "Python 3 (ipykernel)",
   "language": "python",
   "name": "python3"
  },
  "language_info": {
   "codemirror_mode": {
    "name": "ipython",
    "version": 3
   },
   "file_extension": ".py",
   "mimetype": "text/x-python",
   "name": "python",
   "nbconvert_exporter": "python",
   "pygments_lexer": "ipython3",
   "version": "3.11.7"
  }
 },
 "nbformat": 4,
 "nbformat_minor": 5
}
