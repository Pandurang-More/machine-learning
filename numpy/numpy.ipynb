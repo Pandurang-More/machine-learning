{
 "cells": [
  {
   "cell_type": "code",
   "execution_count": 14,
   "id": "79f2f5bd-9593-4e49-a9e4-6db64a3927de",
   "metadata": {},
   "outputs": [],
   "source": [
    "import numpy as np"
   ]
  },
  {
   "cell_type": "markdown",
   "id": "79edad51-f96a-48d4-9435-d4b53aa6671f",
   "metadata": {},
   "source": [
    "### creating array from list"
   ]
  },
  {
   "cell_type": "code",
   "execution_count": 10,
   "id": "f7c1cd4f-c8df-45e2-9be8-0ff103762d4d",
   "metadata": {},
   "outputs": [
    {
     "name": "stdout",
     "output_type": "stream",
     "text": [
      "[1 2 3 4]\n"
     ]
    }
   ],
   "source": [
    "arr_1D=np.array([1,2,3,4])\n",
    "print(arr_1D)"
   ]
  },
  {
   "cell_type": "code",
   "execution_count": 6,
   "id": "9b61e660-a143-480d-bbc8-8464b7cf923b",
   "metadata": {},
   "outputs": [
    {
     "name": "stdout",
     "output_type": "stream",
     "text": [
      "[[1 2]\n",
      " [3 4]]\n"
     ]
    }
   ],
   "source": [
    "arr_2D=np.array([[1,2],[3,4]])\n",
    "print(arr_2D)"
   ]
  },
  {
   "cell_type": "markdown",
   "id": "1222c338-8acd-4aa4-b812-62c0d5da68c9",
   "metadata": {},
   "source": [
    "### list Vs Numpy array"
   ]
  },
  {
   "cell_type": "code",
   "execution_count": 8,
   "id": "e4053ba8-37c3-4ce6-91e9-250e35262e84",
   "metadata": {},
   "outputs": [
    {
     "name": "stdout",
     "output_type": "stream",
     "text": [
      "python list:\n",
      " [1, 2, 3, 4, 1, 2, 3, 4]\n",
      "numpy array:\n",
      " [2 4 6]\n"
     ]
    }
   ],
   "source": [
    "py_list=[1,2,3,4]\n",
    "print(\"python list:\\n\",py_list*2)\n",
    "\n",
    "\n",
    "np_array=np.array([1,2,3])\n",
    "print(\"numpy array:\\n\",np_array*2)  # element wise multiplication\n"
   ]
  },
  {
   "cell_type": "markdown",
   "id": "7cab540e-ff57-4067-9e8a-3e9113e2b98a",
   "metadata": {},
   "source": [
    "### Efficiency np array vs list\n"
   ]
  },
  {
   "cell_type": "code",
   "execution_count": 12,
   "id": "acf36e49-c9e6-4909-987d-b9c7cdddfad7",
   "metadata": {},
   "outputs": [
    {
     "name": "stdout",
     "output_type": "stream",
     "text": [
      "\n",
      " list operation time 1.8106236457824707\n",
      "\n",
      " array operation time 0.06406140327453613\n"
     ]
    }
   ],
   "source": [
    "import time\n",
    "start=time.time()\n",
    "py_list=[i*2 for i in range(10000000)]\n",
    "print( \"\\n list operation time\",time.time()-start)\n",
    "\n",
    "start=time.time()\n",
    "np_array=np.arange(10000000)*2\n",
    "print( \"\\n array operation time\",time.time()-start)\n",
    "\n"
   ]
  },
  {
   "cell_type": "markdown",
   "id": "10fab69a-78bd-4710-a3f0-33b6bdbd5fbb",
   "metadata": {},
   "source": [
    "Why NumPy is faster?\n",
    "\n",
    "Lists: store references to objects → loop in Python interpreter → slower.\n",
    "\n",
    "NumPy arrays: use contiguous memory & vectorized C operations → much faster."
   ]
  },
  {
   "cell_type": "markdown",
   "id": "1262c245-2734-4a79-be37-06603b8b2df3",
   "metadata": {},
   "source": [
    "### Creating array from scratch"
   ]
  },
  {
   "cell_type": "code",
   "execution_count": 19,
   "id": "67aa584f-b7eb-46b7-ad05-f9170274f827",
   "metadata": {},
   "outputs": [
    {
     "name": "stdout",
     "output_type": "stream",
     "text": [
      "Zeros Array:\n",
      " [[0. 0. 0. 0.]\n",
      " [0. 0. 0. 0.]\n",
      " [0. 0. 0. 0.]]\n",
      "ones array:\n",
      " [[1. 1.]\n",
      " [1. 1.]]\n",
      "full array:\n",
      " [[7 7 7]\n",
      " [7 7 7]\n",
      " [7 7 7]]\n",
      "random array:\n",
      " [[0.62976771 0.54510305 0.60368804]\n",
      " [0.84033976 0.33405569 0.55602715]]\n",
      "sequance:\n",
      " [ 0  2  4  6  8 10]\n"
     ]
    }
   ],
   "source": [
    "zeros=np.zeros((3,4))\n",
    "print(\"Zeros Array:\\n\",zeros)\n",
    "\n",
    "ones=np.ones((2,2))\n",
    "print(\"ones array:\\n\",ones)\n",
    "\n",
    "full=np.full((3,3),7)\n",
    "print(\"full array:\\n\",full)\n",
    "\n",
    "\n",
    "random=np.random.random((2,3))\n",
    "print(\"random array:\\n\",random)\n",
    "\n",
    "sequance=np.arange(0,11,2)\n",
    "print(\"sequance:\\n\",sequance)"
   ]
  },
  {
   "cell_type": "markdown",
   "id": "7cb49b25-cdad-4c4c-abf8-2e56b474ea1a",
   "metadata": {},
   "source": [
    "### vector matrices tensor"
   ]
  },
  {
   "cell_type": "code",
   "execution_count": 24,
   "id": "2daa44a0-108e-4e54-965d-bfdf2229c7a9",
   "metadata": {},
   "outputs": [
    {
     "name": "stdout",
     "output_type": "stream",
     "text": [
      "vector:\n",
      " [1 2 3 4 5]\n",
      "matirces:\n",
      " [[1 2 3]\n",
      " [4 5 6]]\n",
      "tensor:\n",
      " [[[1 2]\n",
      "  [3 4]]\n",
      "\n",
      " [[5 6]\n",
      "  [7 8]]]\n"
     ]
    }
   ],
   "source": [
    "vector=np.array([1,2,3,4,5])\n",
    "print(\"vector:\\n\",vector)\n",
    "\n",
    "matrice=np.array([[1,2,3],[4,5,6]])\n",
    "print(\"matirces:\\n\",matrice)\n",
    "\n",
    "tensor=np.array([[[1,2],[3,4]],\n",
    "                 [[5,6],[7,8]]])\n",
    "print(\"tensor:\\n\",tensor)"
   ]
  },
  {
   "cell_type": "markdown",
   "id": "f04951a8-7fc3-49b5-911d-03c9ac415ee0",
   "metadata": {},
   "source": [
    "# Array Properties"
   ]
  },
  {
   "cell_type": "code",
   "execution_count": 27,
   "id": "34508c60-e35e-4363-add7-536ac2363599",
   "metadata": {},
   "outputs": [
    {
     "name": "stdout",
     "output_type": "stream",
     "text": [
      "dimension:\n",
      " 2\n",
      "shape:\n",
      " (2, 3)\n",
      "size:\n",
      " 6\n",
      "dtype:\n",
      " int32\n"
     ]
    }
   ],
   "source": [
    "arr=np.array([[1,2,3],[4,5,6]])\n",
    "print(\"dimension:\\n\",arr.ndim)\n",
    "print(\"shape:\\n\",arr.shape)\n",
    "print(\"size:\\n\",arr.size)\n",
    "print(\"dtype:\\n\",arr.dtype)"
   ]
  },
  {
   "cell_type": "markdown",
   "id": "a7bc4500-be12-4e5f-bce4-210ec33b8aa1",
   "metadata": {},
   "source": [
    "### Array reshaping\n"
   ]
  },
  {
   "cell_type": "code",
   "execution_count": 34,
   "id": "0d67bee1-7b3a-4df1-84c7-56ec761ae0f4",
   "metadata": {},
   "outputs": [
    {
     "name": "stdout",
     "output_type": "stream",
     "text": [
      "original array: [ 0  1  2  3  4  5  6  7  8  9 10 11]\n",
      "reshaped array: [[ 0  1  2  3]\n",
      " [ 4  5  6  7]\n",
      " [ 8  9 10 11]]\n",
      "flattened array: [ 0  1  2  3  4  5  6  7  8  9 10 11]\n",
      "raveled: [ 0  1  2  3  4  5  6  7  8  9 10 11]\n",
      "Transpos Array: [[ 0  4  8]\n",
      " [ 1  5  9]\n",
      " [ 2  6 10]\n",
      " [ 3  7 11]]\n"
     ]
    }
   ],
   "source": [
    "arr=np.arange(12)\n",
    "print(\"original array:\",arr)\n",
    "\n",
    "\n",
    "reshaped=arr.reshape((3,4))\n",
    "print(\"reshaped array:\",reshaped)\n",
    "\n",
    "flattend=arr.flatten()\n",
    "print(\"flattened array:\",flattend)\n",
    "\n",
    "\n",
    "# ravel retrun view instead of copy\n",
    "raveled=reshaped.ravel()\n",
    "print(\"raveled:\",raveled)\n",
    "\n",
    "\n",
    "#transpose\n",
    "\n",
    "transpose=reshaped.T\n",
    "print(\"Transpos Array:\",transpose)\n",
    "   "
   ]
  },
  {
   "cell_type": "code",
   "execution_count": null,
   "id": "dfbb521f-e367-43bc-a862-3d059f4fc2fd",
   "metadata": {},
   "outputs": [],
   "source": [
    "\n"
   ]
  },
  {
   "cell_type": "markdown",
   "id": "5a22c566-e34f-4cb9-91d4-f8817541b8d6",
   "metadata": {},
   "source": [
    "### Numpy Array Operation"
   ]
  },
  {
   "cell_type": "code",
   "execution_count": 36,
   "id": "fe8c7622-7f3f-46c0-8a45-895b156639b2",
   "metadata": {},
   "outputs": [
    {
     "name": "stdout",
     "output_type": "stream",
     "text": [
      "basic slicing: [2 3 4 5]\n",
      "with step: [2 4 6 8]\n",
      "with neg indx 7\n"
     ]
    }
   ],
   "source": [
    "arr=np.array([1,2,3,4,5,6,7,8,9,10])\n",
    "print(\"basic slicing:\",arr[1:5])\n",
    "print(\"with step:\",arr[1:8:2])\n",
    "print(\"with neg indx\",arr[-4])"
   ]
  },
  {
   "cell_type": "code",
   "execution_count": 45,
   "id": "650fdd0f-94f4-4ec1-b520-db0615f9a7d2",
   "metadata": {},
   "outputs": [
    {
     "name": "stdout",
     "output_type": "stream",
     "text": [
      "8\n",
      "entire row [5 6 7 8]\n",
      "entire col [4 8]\n"
     ]
    }
   ],
   "source": [
    "arr_2D=np.array([[1,2,3,4],[5,6,7,8]])\n",
    "print(arr_2D[1,3])\n",
    "print(\"entire row\",arr_2D[1])\n",
    "print(\"entire col\",arr_2D[:,3])"
   ]
  },
  {
   "cell_type": "code",
   "execution_count": null,
   "id": "2271b246-5c04-4dbf-88cd-41c14d42ddc7",
   "metadata": {},
   "outputs": [],
   "source": []
  },
  {
   "cell_type": "markdown",
   "id": "7e74547a-aeee-4723-89ae-7458b0c7cdcc",
   "metadata": {},
   "source": [
    "## Sorting"
   ]
  },
  {
   "cell_type": "code",
   "execution_count": 13,
   "id": "3ae8cd14-6d5b-45df-b6fb-08cfd16aa144",
   "metadata": {},
   "outputs": [
    {
     "name": "stdout",
     "output_type": "stream",
     "text": [
      "Sorted [1 3 5 7 9]\n",
      "Sorted [[ 5  4  8  2  1]\n",
      " [10  9 12  7  6]]\n"
     ]
    }
   ],
   "source": [
    "unsorted_1D=np.array([5,7,3,1,9])\n",
    "print(\"Sorted\",np.sort(unsorted_1D))\n",
    "\n",
    "unsorted_2D=np.array([[5,4,12,2,1],[10,9,8,7,6]])\n",
    "print(\"Sorted\",np.sort(unsorted_2D,axis=0))  // sum col wise"
   ]
  },
  {
   "cell_type": "markdown",
   "id": "9909b8e8-0dd9-4a0e-a5c5-187773d765be",
   "metadata": {},
   "source": [
    "### Filter"
   ]
  },
  {
   "cell_type": "code",
   "execution_count": 11,
   "id": "b354c6b6-1bbd-4470-a875-ec0b0ad5049a",
   "metadata": {},
   "outputs": [
    {
     "name": "stdout",
     "output_type": "stream",
     "text": [
      "even number [ 2  4  6  8 10 12]\n"
     ]
    }
   ],
   "source": [
    "number=np.array([1,2,3,4,5,6,7,8,9,10,12])\n",
    "even_number=number[number%2==0]\n",
    "print(\"even number\",even_number)"
   ]
  },
  {
   "cell_type": "markdown",
   "id": "c9bad91a-83ba-4161-a02d-5a2073c4f923",
   "metadata": {},
   "source": [
    "### Filtering with mask"
   ]
  },
  {
   "cell_type": "code",
   "execution_count": 13,
   "id": "aa60dea9-1243-4873-bbd7-5e15184af296",
   "metadata": {},
   "outputs": [
    {
     "name": "stdout",
     "output_type": "stream",
     "text": [
      "number greater than mask [ 6  7  8  9 10 12]\n"
     ]
    }
   ],
   "source": [
    "mask=number>5\n",
    "print(\"number greater than mask\",number[mask])"
   ]
  },
  {
   "cell_type": "markdown",
   "id": "26587152-82ae-4d26-9f14-4965a6f05d40",
   "metadata": {},
   "source": [
    "### addition of array"
   ]
  },
  {
   "cell_type": "code",
   "execution_count": 3,
   "id": "5dca92ab-fe3a-49e7-a92e-61e47f9abad4",
   "metadata": {},
   "outputs": [
    {
     "name": "stdout",
     "output_type": "stream",
     "text": [
      "combined [1 2 3 4 5 6]\n"
     ]
    }
   ],
   "source": [
    "arr1=np.array=([1,2,3])\n",
    "arr2=np.array=([4,5,6])\n",
    "combined=np.concatenate((arr1,arr2))\n",
    "print(\"combined\",combined)"
   ]
  },
  {
   "cell_type": "markdown",
   "id": "5ba04170-ad50-4ca6-95b2-f0f255ca6e57",
   "metadata": {},
   "source": [
    "### array compatibility"
   ]
  },
  {
   "cell_type": "code",
   "execution_count": 12,
   "id": "216b75ca-f47f-4cae-98ae-101787bbf6cc",
   "metadata": {},
   "outputs": [
    {
     "name": "stdout",
     "output_type": "stream",
     "text": [
      "compatibility shape True\n"
     ]
    }
   ],
   "source": [
    "arr1=np.array([1,2,3])\n",
    "arr2=np.array([4,5,6])\n",
    "arr3=np.array([7,8,9])\n",
    "print(\"compatibility shape\",arr1.shape==arr2.shape)\n"
   ]
  },
  {
   "cell_type": "code",
   "execution_count": 18,
   "id": "0d66a3c5-eb01-4726-ae3d-c5fc5993ae70",
   "metadata": {},
   "outputs": [
    {
     "name": "stdout",
     "output_type": "stream",
     "text": [
      "[[1 2]\n",
      " [3 4]\n",
      " [5 6]]\n"
     ]
    }
   ],
   "source": [
    "original=np.array([[1,2],[3,4]])\n",
    "new_row=np.array([5,6])\n",
    "with_new_row=np.vstack((original,new_row))\n",
    "print(with_new_row)"
   ]
  },
  {
   "cell_type": "code",
   "execution_count": 22,
   "id": "e934b68f-43c1-4af8-b753-015480f18053",
   "metadata": {},
   "outputs": [
    {
     "name": "stdout",
     "output_type": "stream",
     "text": [
      "[[1 2 5]\n",
      " [3 4 6]]\n"
     ]
    }
   ],
   "source": [
    "original=np.array([[1,2],[3,4]])\n",
    "new_row=np.array([[5],[6]])\n",
    "with_new_col=np.hstack((original,new_row))\n",
    "print(with_new_col)"
   ]
  },
  {
   "cell_type": "markdown",
   "id": "292b47ff-64f5-4112-b0f8-aabc333f06c7",
   "metadata": {},
   "source": [
    "### Deletion"
   ]
  },
  {
   "cell_type": "code",
   "execution_count": 23,
   "id": "dbfe21c7-5ab2-48c8-aaa6-23c800e7d804",
   "metadata": {},
   "outputs": [
    {
     "name": "stdout",
     "output_type": "stream",
     "text": [
      "deleted [1 2 3 4]\n"
     ]
    }
   ],
   "source": [
    "arr=np.array([1,2,3,4,5])\n",
    "deleted=np.delete(arr,4)\n",
    "print(\"deleted\",deleted)"
   ]
  },
  {
   "cell_type": "markdown",
   "id": "24c77c91-e88d-4084-b54d-adf7e4ca62f4",
   "metadata": {},
   "source": [
    "### PHASE 2: PRACTICE WITH REAL WORLD DATA"
   ]
  },
  {
   "cell_type": "code",
   "execution_count": 24,
   "id": "ad3c041d-f84b-4b54-9d2a-599c3c8d733f",
   "metadata": {},
   "outputs": [],
   "source": [
    "import numpy as np\n",
    "import matplotlib.pyplot as plt"
   ]
  },
  {
   "cell_type": "code",
   "execution_count": 31,
   "id": "42f3367f-a0cd-47d7-9898-cca064d92d76",
   "metadata": {},
   "outputs": [
    {
     "name": "stdout",
     "output_type": "stream",
     "text": [
      "===Zomato sales analysis===\n",
      "sales data shape (5, 5)\n",
      "sample sales data first 3 restu\n",
      "[[    1 15000 18000 22000 35000]\n",
      " [    2 12000 14000 16000 19000]\n",
      " [    3 20000 23000 26000 30000]]\n"
     ]
    }
   ],
   "source": [
    "# data structure[restuarant_id,2021,2022,2023,2024]\n",
    "sales_data=np.array([\n",
    "    [1,15000,18000,22000,35000], # paradise biryani\n",
    "    [2,12000,14000,16000,19000], # Beijing bites\n",
    "    [3,20000,23000,26000,30000], # pizza hub\n",
    "    [4,18000,21000,24000,27000], # burger point\n",
    "    [5,16000,18500,20500,23500]  # chai point\n",
    "                   ])\n",
    "print(\"===Zomato sales analysis===\")\n",
    "print(\"sales data shape\",sales_data.shape)\n",
    "print(\"sample sales data first 3 restu\")\n",
    "print(sales_data[:3])"
   ]
  },
  {
   "cell_type": "code",
   "execution_count": 36,
   "id": "89fd288f-2928-47a1-9f4b-8ec1953b7401",
   "metadata": {},
   "outputs": [
    {
     "name": "stdout",
     "output_type": "stream",
     "text": [
      "year total:\n",
      "[ 81000  94500 108500 134500]\n"
     ]
    }
   ],
   "source": [
    "# total sales per year\n",
    "year_total=np.sum(sales_data[:,1:],axis=0)\n",
    "print(\"year total:\")\n",
    "print(year_total)"
   ]
  },
  {
   "cell_type": "code",
   "execution_count": 39,
   "id": "6b2fb0fd-2699-41e0-b516-15b3ecb6070b",
   "metadata": {},
   "outputs": [
    {
     "name": "stdout",
     "output_type": "stream",
     "text": [
      "min sales per restuarant\n",
      "[15000 12000 20000 18000 16000]\n"
     ]
    }
   ],
   "source": [
    "# min sales per restuarant\n",
    "min_sales=np.min(sales_data[:,1:],axis=1)\n",
    "print(\"min sales per restuarant\")\n",
    "print(min_sales)"
   ]
  },
  {
   "cell_type": "code",
   "execution_count": 42,
   "id": "9d0d8659-0415-4ea1-8691-88ecdb35d3fb",
   "metadata": {},
   "outputs": [
    {
     "name": "stdout",
     "output_type": "stream",
     "text": [
      "max sales per year\n",
      "[20000 23000 26000 35000]\n"
     ]
    }
   ],
   "source": [
    "# max sales per year\n",
    "max_sales=np.max(sales_data[:,1:],axis=0)\n",
    "print(\"max sales per year\")\n",
    "print(max_sales)"
   ]
  },
  {
   "cell_type": "code",
   "execution_count": 45,
   "id": "3d52492b-6f7a-49e5-904b-36815ce80ad7",
   "metadata": {},
   "outputs": [
    {
     "name": "stdout",
     "output_type": "stream",
     "text": [
      "avg sales per restuarant\n",
      "[22500. 15250. 24750. 22500. 19625.]\n"
     ]
    }
   ],
   "source": [
    "# avg sales per restuarant\n",
    "avg_sales=np.mean(sales_data[:,1:],axis=1)\n",
    "print(\"avg sales per restuarant\")\n",
    "print(avg_sales)"
   ]
  },
  {
   "cell_type": "code",
   "execution_count": 49,
   "id": "98c8d14a-fc92-4cb4-b580-164017d91809",
   "metadata": {},
   "outputs": [
    {
     "name": "stdout",
     "output_type": "stream",
     "text": [
      "cum sales per year\n",
      "[[15000 33000 55000 90000]\n",
      " [12000 26000 42000 61000]\n",
      " [20000 43000 69000 99000]\n",
      " [18000 39000 63000 90000]\n",
      " [16000 34500 55000 78500]]\n"
     ]
    },
    {
     "data": {
      "image/png": "[encoded data removed]",
      "text/plain": [
       "<Figure size 800x600 with 1 Axes>"
      ]
     },
     "metadata": {},
     "output_type": "display_data"
    }
   ],
   "source": [
    "# cummulative sales per year\n",
    "cum_sales=np.cumsum(sales_data[:,1:],axis=1)\n",
    "print(\"cum sales per year\")\n",
    "print(cum_sales)\n",
    "\n",
    "\n",
    "plt.figure(figsize=(8,6))\n",
    "plt.plot(np.mean(cum_sales,axis=0))\n",
    "plt.title(\"Avg Cummulative sales acroos all years\")\n",
    "plt.xlabel(\"years\")\n",
    "plt.ylabel(\"sales\")\n",
    "plt.grid(True)\n",
    "plt.show()"
   ]
  },
  {
   "cell_type": "markdown",
   "id": "cd6f2de9-5cf4-4c16-b418-19a5dd2e7b42",
   "metadata": {},
   "source": [
    "### vector add mul"
   ]
  },
  {
   "cell_type": "code",
   "execution_count": 51,
   "id": "af9fd48b-696c-479b-b294-441852f0da1f",
   "metadata": {},
   "outputs": [
    {
     "name": "stdout",
     "output_type": "stream",
     "text": [
      "addtion [ 7  9 11 13 15]\n",
      "mul [ 6 14 24 36 50]\n",
      "dot pro 130\n"
     ]
    }
   ],
   "source": [
    "vector1=np.array([1,2,3,4,5])\n",
    "vector2=np.array([6,7,8,9,10])\n",
    "print(\"addtion\",vector1+vector2)\n",
    "print(\"mul\",vector1*vector2)\n",
    "print(\"dot pro\",np.dot(vector1,vector2))"
   ]
  },
  {
   "cell_type": "code",
   "execution_count": 58,
   "id": "f4575fd6-7aa1-4d59-9ee4-8eba340e0736",
   "metadata": {},
   "outputs": [
    {
     "name": "stdout",
     "output_type": "stream",
     "text": [
      "vectorized_upper ['BIRYANI' 'CHINESE' 'BURGER' 'PIZZA' 'CAFFE']\n"
     ]
    }
   ],
   "source": [
    "res_type=np.array([\"biryani\",\"chinese\",\"burger\",\"pizza\",\"caffe\"])\n",
    "vectorized=np.vectorize(str.upper)\n",
    "print(\"vectorized_upper\",vectorized(res_type))"
   ]
  },
  {
   "cell_type": "markdown",
   "id": "d9cf6edf-987d-456d-bf66-f747a717e296",
   "metadata": {},
   "source": [
    "### numpy lgog"
   ]
  },
  {
   "cell_type": "code",
   "execution_count": 61,
   "id": "b303185b-53b6-4004-82cb-e1abaea29383",
   "metadata": {},
   "outputs": [
    {
     "data": {
      "image/png": "[encoded data removed]",
      "text/plain": [
       "<Figure size 640x480 with 2 Axes>"
      ]
     },
     "metadata": {},
     "output_type": "display_data"
    }
   ],
   "source": [
    "import matplotlib.pyplot as plt\n",
    "import matplotlib.image as mpimg\n",
    "\n",
    "try:\n",
    "    # use your uploaded file path\n",
    " \n",
    "    logo = mpimg.imread(r\"C:\\Users\\Pandurang\\Desktop\\numpy-logo.jpg\")\n",
    "\n",
    "    plt.subplot(121)\n",
    "    plt.imshow(logo)\n",
    "    plt.title(\"Numpy logo\")\n",
    "    plt.axis(\"off\")   # cleaner, hides axes\n",
    "    plt.grid(False)\n",
    "\n",
    "    # invert colors (dark mode effect)\n",
    "    dark_logo = 1 - logo\n",
    "\n",
    "    plt.subplot(122)\n",
    "    plt.imshow(dark_logo)\n",
    "    plt.title(\"Numpy Dark logo\")\n",
    "    plt.axis(\"off\")\n",
    "    plt.grid(False)\n",
    "\n",
    "    plt.show()\n",
    "\n",
    "except FileNotFoundError:\n",
    "    print(\"numpy logo file not found\")\n"
   ]
  },
  {
   "cell_type": "code",
   "execution_count": null,
   "id": "61e4c538-32ae-4c33-ab71-a305fdcc3429",
   "metadata": {},
   "outputs": [],
   "source": []
  }
 ],
 "metadata": {
  "kernelspec": {
   "display_name": "Python 3 (ipykernel)",
   "language": "python",
   "name": "python3"
  },
  "language_info": {
   "codemirror_mode": {
    "name": "ipython",
    "version": 3
   },
   "file_extension": ".py",
   "mimetype": "text/x-python",
   "name": "python",
   "nbconvert_exporter": "python",
   "pygments_lexer": "ipython3",
   "version": "3.11.7"
  }
 },
 "nbformat": 4,
 "nbformat_minor": 5
}
